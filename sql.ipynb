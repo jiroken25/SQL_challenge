{
 "cells": [
  {
   "cell_type": "code",
   "execution_count": 1,
   "metadata": {},
   "outputs": [],
   "source": [
    "%matplotlib widget"
   ]
  },
  {
   "cell_type": "code",
   "execution_count": 2,
   "metadata": {},
   "outputs": [],
   "source": [
    "import matplotlib.pyplot as plt\n",
    "import pandas as pd\n",
    "import psycopg2\n",
    "from config import Password_SQL\n",
    "\n",
    "connection_config = {'user':\"postgres\",\n",
    "                    'password':Password_SQL,\n",
    "                    'host':'localhost',\n",
    "                    'port':'5432',\n",
    "                    'database':'Employee_DB'}\n",
    "\n",
    "connection = psycopg2.connect(**connection_config)"
   ]
  },
  {
   "cell_type": "code",
   "execution_count": 3,
   "metadata": {},
   "outputs": [],
   "source": [
    "salary_df = pd.read_sql(sql='SELECT * FROM \"Salaries\";', con=connection)"
   ]
  },
  {
   "cell_type": "code",
   "execution_count": null,
   "metadata": {},
   "outputs": [],
   "source": []
  },
  {
   "cell_type": "code",
   "execution_count": 4,
   "metadata": {},
   "outputs": [],
   "source": [
    "title_salary_df = pd.read_sql(sql='select \"Titles\".title, \"Salaries\".salary from \"Employees\" join \"Titles\" on \"Employees\".emp_title_id = \"Titles\".title_id join \"Salaries\" on \"Employees\".emp_no = \"Salaries\".emp_no;', con=connection)"
   ]
  },
  {
   "cell_type": "code",
   "execution_count": 5,
   "metadata": {},
   "outputs": [
    {
     "data": {
      "application/vnd.jupyter.widget-view+json": {
       "model_id": "ed0084ce7aef491c901da83bfe2130c4",
       "version_major": 2,
       "version_minor": 0
      },
      "text/plain": [
       "Canvas(toolbar=Toolbar(toolitems=[('Home', 'Reset original view', 'home', 'home'), ('Back', 'Back to previous …"
      ]
     },
     "metadata": {},
     "output_type": "display_data"
    }
   ],
   "source": [
    "plt.hist(salary_df['salary'], bins = 20)\n",
    "plt.title(\"The number of employees(Salary Range)\")\n",
    "plt.ylabel(\"Number of Employees\")\n",
    "plt.xlabel(\"Salary Range\")\n",
    "plt.tight_layout()\n",
    "plt.savefig(\"salary_hist.png\", bbox_inches='tight')"
   ]
  },
  {
   "cell_type": "code",
   "execution_count": 6,
   "metadata": {},
   "outputs": [
    {
     "data": {
      "application/vnd.jupyter.widget-view+json": {
       "model_id": "382e87858a4a416692dc704b42d7ea32",
       "version_major": 2,
       "version_minor": 0
      },
      "text/plain": [
       "Canvas(toolbar=Toolbar(toolitems=[('Home', 'Reset original view', 'home', 'home'), ('Back', 'Back to previous …"
      ]
     },
     "metadata": {},
     "output_type": "display_data"
    }
   ],
   "source": [
    "title_salary_df.groupby('title').mean().plot.bar(rot=45)\n",
    "plt.title(\"Average Salary of each position\")\n",
    "plt.ylabel(\"Salary\")\n",
    "plt.xlabel(\"Position\")\n",
    "plt.savefig(\"average_salary.png\", bbox_inches='tight')\n",
    "plt.tight_layout()"
   ]
  },
  {
   "cell_type": "code",
   "execution_count": null,
   "metadata": {},
   "outputs": [],
   "source": []
  }
 ],
 "metadata": {
  "kernelspec": {
   "display_name": "Python 3",
   "language": "python",
   "name": "python3"
  },
  "language_info": {
   "codemirror_mode": {
    "name": "ipython",
    "version": 3
   },
   "file_extension": ".py",
   "mimetype": "text/x-python",
   "name": "python",
   "nbconvert_exporter": "python",
   "pygments_lexer": "ipython3",
   "version": "3.7.6"
  }
 },
 "nbformat": 4,
 "nbformat_minor": 4
}
